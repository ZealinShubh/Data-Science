{
 "cells": [
  {
   "cell_type": "markdown",
   "id": "397db2e4-46ce-4dfc-b14d-bfb0d08139ab",
   "metadata": {},
   "source": [
    "# Data Science Tools and Ecosystem"
   ]
  },
  {
   "cell_type": "markdown",
   "id": "1d7fa3f3-54f1-4d44-834e-0f7559c4deb6",
   "metadata": {},
   "source": [
    "In this notebook, Data Science Tools and Ecosystem are summarized."
   ]
  },
  {
   "cell_type": "markdown",
   "id": "93d83535-f3c9-41d7-95a8-a57ec5c28c44",
   "metadata": {},
   "source": [
    "1. Python\n",
    "2. Julia\n",
    "3. R"
   ]
  },
  {
   "cell_type": "markdown",
   "id": "fd0e7d84-fc00-4698-a750-789d666891bb",
   "metadata": {
    "tags": []
   },
   "source": [
    "Some of the commonly used libraries used by Data Scientists include:\n",
    "1. Pandas\n",
    "2. Numpy\n",
    "3. Matplotlib\n",
    "4. Seaborn"
   ]
  },
  {
   "cell_type": "markdown",
   "id": "c1a92a3b-63f3-46c6-a4ef-a2c2eb1ad370",
   "metadata": {},
   "source": [
    "|Data Science Tools|\n",
    "| ---------------- |\n",
    "| Jupyter |\n",
    "| Github |\n",
    "| RStudio |"
   ]
  },
  {
   "cell_type": "markdown",
   "id": "c896f580-71b8-47a9-b90c-c939dcfc6d1a",
   "metadata": {},
   "source": [
    "### Below are a few examples of evaluating arithmetic expressions in Python"
   ]
  },
  {
   "cell_type": "code",
   "execution_count": 2,
   "id": "6ab31ba9-a1f7-4d06-b17f-44c04418e3b7",
   "metadata": {
    "tags": []
   },
   "outputs": [
    {
     "data": {
      "text/plain": [
       "17"
      ]
     },
     "execution_count": 2,
     "metadata": {},
     "output_type": "execute_result"
    }
   ],
   "source": [
    "#This a simple arithmetic expression to mutiply then add integers\n",
    "(3*4)+5"
   ]
  },
  {
   "cell_type": "code",
   "execution_count": 9,
   "id": "53e1e519-daec-4f77-8c36-5cc09a591569",
   "metadata": {
    "tags": []
   },
   "outputs": [
    {
     "data": {
      "text/plain": [
       "33.333333333333336"
      ]
     },
     "execution_count": 9,
     "metadata": {},
     "output_type": "execute_result"
    }
   ],
   "source": [
    "#This will convert 200 minutes to hours by diving by 60\n",
    "200/6"
   ]
  },
  {
   "cell_type": "markdown",
   "id": "aa624f0b-8c7b-4447-84c9-df6155691fca",
   "metadata": {},
   "source": [
    "**Objectives:**\n",
    "* Python\n",
    "* Julia\n",
    "* R\n",
    "* Scala"
   ]
  },
  {
   "cell_type": "markdown",
   "id": "571a5647-66d8-488d-bfad-ead04d9f3c81",
   "metadata": {},
   "source": [
    "## Author\n",
    "Shubhadeep Supriyo\n"
   ]
  },
  {
   "cell_type": "code",
   "execution_count": null,
   "id": "49db514f-5b53-4afb-ae6f-e7b9f589457d",
   "metadata": {},
   "outputs": [],
   "source": []
  }
 ],
 "metadata": {
  "kernelspec": {
   "display_name": "Python",
   "language": "python",
   "name": "conda-env-python-py"
  },
  "language_info": {
   "codemirror_mode": {
    "name": "ipython",
    "version": 3
   },
   "file_extension": ".py",
   "mimetype": "text/x-python",
   "name": "python",
   "nbconvert_exporter": "python",
   "pygments_lexer": "ipython3",
   "version": "3.7.12"
  }
 },
 "nbformat": 4,
 "nbformat_minor": 5
}
